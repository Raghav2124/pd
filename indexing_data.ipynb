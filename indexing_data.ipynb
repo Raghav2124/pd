# Dataframe.loc[ ] : This function is used for labels.
# Dataframe.iloc[ ] : This function is used for positions or integer based
# Dataframe.ix[] : This function is used for both label and integer based

#way to select a single column
import pandas as pd  
data=pd.read_csv("nba.csv",index_col="Name")
sec=data["Age"]
first=data[["Age","Name","Salary"]]
print(first)
print(sec)
#to select a row or multiple rows 
dat=pd.read_csv("nba.csv",index_col="Name")
f= dat.loc["Avery Bradley"] 
v= dat.loc[["Avery Bradley", "R.J. Hunter"]] 
#Dataframe.loc[["row1", "row2"], ["column1", "column2", "column3"]] we can also specify the columns which we want by using loc keyword
t = dat.loc[["Avery Bradley", "R.J. Hunter"], ["Team", "Number", "Position"]] 
print(f)
print(v)
print(t)
#ataframe.loc[:, ["column1", "column2", "column3"]]

# df.iloc indexer is very similar to df.loc but only uses integer locations to make its selections.
y=dat.iloc[3]
print(y)